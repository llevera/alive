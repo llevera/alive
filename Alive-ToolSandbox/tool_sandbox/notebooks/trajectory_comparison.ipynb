{
 "cells": [
  {
   "cell_type": "code",
   "execution_count": 1,
   "id": "initial_id",
   "metadata": {
    "ExecuteTime": {
     "end_time": "2024-06-05T21:58:53.804813Z",
     "start_time": "2024-06-05T21:58:53.792427Z"
    },
    "collapsed": true
   },
   "outputs": [
    {
     "data": {
      "text/plain": [
       "{'STATE_DEPENDENCY': {'similarity': 0.7949763874269689,\n",
       "  'turn_count': 16.666666666666668},\n",
       " 'MULTIPLE_TOOL_CALL': {'similarity': 0.7430656604090896,\n",
       "  'turn_count': 12.865853658536585},\n",
       " 'SINGLE_USER_TURN': {'similarity': 0.797994174622396,\n",
       "  'turn_count': 10.945205479452055},\n",
       " 'NO_DISTRACTION_TOOLS': {'similarity': 0.7133494472956974,\n",
       "  'turn_count': 12.387596899224807},\n",
       " 'ALL_CATEGORIES': {'similarity': 0.7133494472956974,\n",
       "  'turn_count': 12.387596899224807},\n",
       " 'INSUFFICIENT_INFORMATION': {'similarity': 0.5092495349713835,\n",
       "  'turn_count': 14.464285714285714},\n",
       " 'CANONICALIZATION': {'similarity': 0.7565937235154674,\n",
       "  'turn_count': 12.423728813559322},\n",
       " 'MULTIPLE_USER_TURN': {'similarity': 0.6967684633754047,\n",
       "  'turn_count': 14.071428571428571},\n",
       " 'SINGLE_TOOL_CALL': {'similarity': 0.8858793457053098,\n",
       "  'turn_count': 7.2631578947368425}}"
      ]
     },
     "execution_count": 1,
     "metadata": {},
     "output_type": "execute_result"
    }
   ],
   "source": [
    "import json\n",
    "with open(\"/Users/andrewrevell/Projects/767/ToolSandbox/data/agent_gpt-4o-mini_user_gpt-4o-mini_06_04_2025_14_39_33_without_domain_all/result_summary.json\") as f:\n",
    "    result = json.load(f)\n",
    "result[\"category_aggregated_results\"]"
   ]
  },
  {
   "cell_type": "code",
   "execution_count": 3,
   "id": "da8cf1608ae9031e",
   "metadata": {
    "ExecuteTime": {
     "end_time": "2024-06-05T22:07:05.719236Z",
     "start_time": "2024-06-05T22:07:05.714674Z"
    },
    "collapsed": false
   },
   "outputs": [],
   "source": [
    "from collections import defaultdict\n",
    "scenario_name_stem_dict = defaultdict(lambda : defaultdict())\n",
    "augmentations = [\"_all_tools\", \"_3_distraction_tools\", \"_10_distraction_tools\"]\n",
    "for per_scenario_result in result[\"per_scenario_results\"]:\n",
    "    stem = per_scenario_result[\"name\"]\n",
    "    augmentation = \"no_distraction\"\n",
    "    for a in augmentations:\n",
    "        if a in stem:\n",
    "            stem = stem.replace(a, \"\")\n",
    "            augmentation = a\n",
    "            break\n",
    "    scenario_name_stem_dict[stem][augmentation] = per_scenario_result\n",
    "#for stem, per_scenario_augmentation_result in scenario_name_stem_dict.items():\n",
    "#    if \"no_distraction\" in per_scenario_augmentation_result and  per_scenario_augmentation_result[\"_3_distraction_tools\"][\"similarity\"] > per_scenario_augmentation_result[\"no_distraction\"][\"similarity\"]:\n",
    "#        print(stem)"
   ]
  },
  {
   "cell_type": "code",
   "execution_count": 4,
   "id": "5dd44c5b7ca5e79c",
   "metadata": {
    "ExecuteTime": {
     "end_time": "2024-06-06T02:32:20.012933Z",
     "start_time": "2024-06-06T02:32:20.010458Z"
    },
    "collapsed": false
   },
   "outputs": [
    {
     "name": "stdout",
     "output_type": "stream",
     "text": [
      "12.387596899224807\n"
     ]
    }
   ],
   "source": [
    "turn_counts = []\n",
    "for per_scenario_result in result[\"per_scenario_results\"]:\n",
    "    turn_counts.append(per_scenario_result[\"turn_count\"])\n",
    "print(sum(turn_counts) / len(turn_counts))"
   ]
  },
  {
   "cell_type": "code",
   "execution_count": null,
   "id": "9a5a59718c0963db",
   "metadata": {
    "collapsed": false
   },
   "outputs": [],
   "source": []
  }
 ],
 "metadata": {
  "kernelspec": {
   "display_name": "ToolSandbox",
   "language": "python",
   "name": "python3"
  },
  "language_info": {
   "codemirror_mode": {
    "name": "ipython",
    "version": 3
   },
   "file_extension": ".py",
   "mimetype": "text/x-python",
   "name": "python",
   "nbconvert_exporter": "python",
   "pygments_lexer": "ipython3",
   "version": "3.9.21"
  }
 },
 "nbformat": 4,
 "nbformat_minor": 5
}
